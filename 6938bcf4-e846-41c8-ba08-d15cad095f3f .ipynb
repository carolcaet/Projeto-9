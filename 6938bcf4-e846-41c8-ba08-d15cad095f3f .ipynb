{
 "cells": [
  {
   "cell_type": "markdown",
   "metadata": {},
   "source": [
    "# Projeto 9: Cafeteria Robô em Los Angeles."
   ]
  },
  {
   "cell_type": "markdown",
   "metadata": {},
   "source": [
    "Neste projeto, vamos preparar uma pesquisa de mercado analisando dados sobre restaurantes em Los Angeles, para entender melhor as condições do mercado e se uma cafeteria com garções robô é ou não um bom negócio."
   ]
  },
  {
   "cell_type": "markdown",
   "metadata": {},
   "source": [
    "A apresentação para este estudo:\n",
    "\n",
    "Presentation: <https://drive.google.com/file/d/1h9Y9mNh5bgurry7ljkf-NVdAcJW9hKc7/view?usp=sharing> "
   ]
  },
  {
   "cell_type": "markdown",
   "metadata": {},
   "source": [
    "## Importando Bibliotecas e dados"
   ]
  },
  {
   "cell_type": "code",
   "execution_count": 1,
   "metadata": {},
   "outputs": [],
   "source": [
    "import pandas as pd\n",
    "import matplotlib.pyplot as plt\n",
    "import seaborn as sns"
   ]
  },
  {
   "cell_type": "markdown",
   "metadata": {},
   "source": [
    "Vamos chamar o conjunto de dados sobre restaurantes em L.A.de rest_data"
   ]
  },
  {
   "cell_type": "code",
   "execution_count": 2,
   "metadata": {},
   "outputs": [],
   "source": [
    "rest_data = pd.read_csv('/datasets/rest_data_us.csv')"
   ]
  },
  {
   "cell_type": "markdown",
   "metadata": {},
   "source": [
    "Agora precisamos preparar os dados para a análise."
   ]
  },
  {
   "cell_type": "markdown",
   "metadata": {},
   "source": [
    "### Pré processamento de dados"
   ]
  },
  {
   "cell_type": "markdown",
   "metadata": {},
   "source": [
    "Podem haver erros nos conjuntos de dados, por isso vamos verificar se algo precisa ser feito antes de começar a trabalhar nos dados."
   ]
  },
  {
   "cell_type": "code",
   "execution_count": 3,
   "metadata": {
    "scrolled": false
   },
   "outputs": [
    {
     "data": {
      "text/html": [
       "<div>\n",
       "<style scoped>\n",
       "    .dataframe tbody tr th:only-of-type {\n",
       "        vertical-align: middle;\n",
       "    }\n",
       "\n",
       "    .dataframe tbody tr th {\n",
       "        vertical-align: top;\n",
       "    }\n",
       "\n",
       "    .dataframe thead th {\n",
       "        text-align: right;\n",
       "    }\n",
       "</style>\n",
       "<table border=\"1\" class=\"dataframe\">\n",
       "  <thead>\n",
       "    <tr style=\"text-align: right;\">\n",
       "      <th></th>\n",
       "      <th>id</th>\n",
       "      <th>object_name</th>\n",
       "      <th>address</th>\n",
       "      <th>chain</th>\n",
       "      <th>object_type</th>\n",
       "      <th>number</th>\n",
       "    </tr>\n",
       "  </thead>\n",
       "  <tbody>\n",
       "    <tr>\n",
       "      <th>0</th>\n",
       "      <td>11786</td>\n",
       "      <td>HABITAT COFFEE SHOP</td>\n",
       "      <td>3708 N EAGLE ROCK BLVD</td>\n",
       "      <td>False</td>\n",
       "      <td>Cafe</td>\n",
       "      <td>26</td>\n",
       "    </tr>\n",
       "    <tr>\n",
       "      <th>1</th>\n",
       "      <td>11787</td>\n",
       "      <td>REILLY'S</td>\n",
       "      <td>100 WORLD WAY # 120</td>\n",
       "      <td>False</td>\n",
       "      <td>Restaurant</td>\n",
       "      <td>9</td>\n",
       "    </tr>\n",
       "    <tr>\n",
       "      <th>2</th>\n",
       "      <td>11788</td>\n",
       "      <td>STREET CHURROS</td>\n",
       "      <td>6801 HOLLYWOOD BLVD # 253</td>\n",
       "      <td>False</td>\n",
       "      <td>Fast Food</td>\n",
       "      <td>20</td>\n",
       "    </tr>\n",
       "    <tr>\n",
       "      <th>3</th>\n",
       "      <td>11789</td>\n",
       "      <td>TRINITI ECHO PARK</td>\n",
       "      <td>1814 W SUNSET BLVD</td>\n",
       "      <td>False</td>\n",
       "      <td>Restaurant</td>\n",
       "      <td>22</td>\n",
       "    </tr>\n",
       "    <tr>\n",
       "      <th>4</th>\n",
       "      <td>11790</td>\n",
       "      <td>POLLEN</td>\n",
       "      <td>2100 ECHO PARK AVE</td>\n",
       "      <td>False</td>\n",
       "      <td>Restaurant</td>\n",
       "      <td>20</td>\n",
       "    </tr>\n",
       "    <tr>\n",
       "      <th>5</th>\n",
       "      <td>11791</td>\n",
       "      <td>THE SPOT GRILL</td>\n",
       "      <td>10004 NATIONAL BLVD</td>\n",
       "      <td>False</td>\n",
       "      <td>Restaurant</td>\n",
       "      <td>14</td>\n",
       "    </tr>\n",
       "    <tr>\n",
       "      <th>6</th>\n",
       "      <td>11792</td>\n",
       "      <td>CPK</td>\n",
       "      <td>100 WORLD WAY # 126</td>\n",
       "      <td>False</td>\n",
       "      <td>Restaurant</td>\n",
       "      <td>100</td>\n",
       "    </tr>\n",
       "    <tr>\n",
       "      <th>7</th>\n",
       "      <td>11793</td>\n",
       "      <td>PHO LALA</td>\n",
       "      <td>3500 W 6TH ST STE 226</td>\n",
       "      <td>False</td>\n",
       "      <td>Restaurant</td>\n",
       "      <td>7</td>\n",
       "    </tr>\n",
       "    <tr>\n",
       "      <th>8</th>\n",
       "      <td>11794</td>\n",
       "      <td>ABC DONUTS</td>\n",
       "      <td>3027 N SAN FERNANDO RD UNIT 103</td>\n",
       "      <td>True</td>\n",
       "      <td>Fast Food</td>\n",
       "      <td>1</td>\n",
       "    </tr>\n",
       "    <tr>\n",
       "      <th>9</th>\n",
       "      <td>11795</td>\n",
       "      <td>UPSTAIRS</td>\n",
       "      <td>3707 N CAHUENGA BLVD</td>\n",
       "      <td>False</td>\n",
       "      <td>Restaurant</td>\n",
       "      <td>35</td>\n",
       "    </tr>\n",
       "  </tbody>\n",
       "</table>\n",
       "</div>"
      ],
      "text/plain": [
       "      id          object_name                          address  chain  \\\n",
       "0  11786  HABITAT COFFEE SHOP           3708 N EAGLE ROCK BLVD  False   \n",
       "1  11787             REILLY'S              100 WORLD WAY # 120  False   \n",
       "2  11788       STREET CHURROS        6801 HOLLYWOOD BLVD # 253  False   \n",
       "3  11789    TRINITI ECHO PARK               1814 W SUNSET BLVD  False   \n",
       "4  11790               POLLEN               2100 ECHO PARK AVE  False   \n",
       "5  11791       THE SPOT GRILL              10004 NATIONAL BLVD  False   \n",
       "6  11792                  CPK              100 WORLD WAY # 126  False   \n",
       "7  11793             PHO LALA            3500 W 6TH ST STE 226  False   \n",
       "8  11794           ABC DONUTS  3027 N SAN FERNANDO RD UNIT 103   True   \n",
       "9  11795             UPSTAIRS             3707 N CAHUENGA BLVD  False   \n",
       "\n",
       "  object_type  number  \n",
       "0        Cafe      26  \n",
       "1  Restaurant       9  \n",
       "2   Fast Food      20  \n",
       "3  Restaurant      22  \n",
       "4  Restaurant      20  \n",
       "5  Restaurant      14  \n",
       "6  Restaurant     100  \n",
       "7  Restaurant       7  \n",
       "8   Fast Food       1  \n",
       "9  Restaurant      35  "
      ]
     },
     "execution_count": 3,
     "metadata": {},
     "output_type": "execute_result"
    }
   ],
   "source": [
    "rest_data.head(10)"
   ]
  },
  {
   "cell_type": "markdown",
   "metadata": {},
   "source": [
    "<b>Descrição de dados</b>\n",
    "Tabela rest_data:\n",
    "- `id` — identificação do estabelecimento \n",
    "- `object_name` — nome do estabelecimento\n",
    "- `chain` — estabelecimento de rede (TRUE/FALSE)\n",
    "- `object_type` — tipo de estabelecimento\n",
    "- `address` — endereço\n",
    "- `number` — número de assentos"
   ]
  },
  {
   "cell_type": "code",
   "execution_count": 4,
   "metadata": {},
   "outputs": [
    {
     "data": {
      "text/html": [
       "<div>\n",
       "<style scoped>\n",
       "    .dataframe tbody tr th:only-of-type {\n",
       "        vertical-align: middle;\n",
       "    }\n",
       "\n",
       "    .dataframe tbody tr th {\n",
       "        vertical-align: top;\n",
       "    }\n",
       "\n",
       "    .dataframe thead th {\n",
       "        text-align: right;\n",
       "    }\n",
       "</style>\n",
       "<table border=\"1\" class=\"dataframe\">\n",
       "  <thead>\n",
       "    <tr style=\"text-align: right;\">\n",
       "      <th></th>\n",
       "      <th>id</th>\n",
       "      <th>number</th>\n",
       "    </tr>\n",
       "  </thead>\n",
       "  <tbody>\n",
       "    <tr>\n",
       "      <th>count</th>\n",
       "      <td>9651.000000</td>\n",
       "      <td>9651.000000</td>\n",
       "    </tr>\n",
       "    <tr>\n",
       "      <th>mean</th>\n",
       "      <td>16611.000000</td>\n",
       "      <td>43.695161</td>\n",
       "    </tr>\n",
       "    <tr>\n",
       "      <th>std</th>\n",
       "      <td>2786.148058</td>\n",
       "      <td>47.622874</td>\n",
       "    </tr>\n",
       "    <tr>\n",
       "      <th>min</th>\n",
       "      <td>11786.000000</td>\n",
       "      <td>1.000000</td>\n",
       "    </tr>\n",
       "    <tr>\n",
       "      <th>25%</th>\n",
       "      <td>14198.500000</td>\n",
       "      <td>14.000000</td>\n",
       "    </tr>\n",
       "    <tr>\n",
       "      <th>50%</th>\n",
       "      <td>16611.000000</td>\n",
       "      <td>27.000000</td>\n",
       "    </tr>\n",
       "    <tr>\n",
       "      <th>75%</th>\n",
       "      <td>19023.500000</td>\n",
       "      <td>46.000000</td>\n",
       "    </tr>\n",
       "    <tr>\n",
       "      <th>max</th>\n",
       "      <td>21436.000000</td>\n",
       "      <td>229.000000</td>\n",
       "    </tr>\n",
       "  </tbody>\n",
       "</table>\n",
       "</div>"
      ],
      "text/plain": [
       "                 id       number\n",
       "count   9651.000000  9651.000000\n",
       "mean   16611.000000    43.695161\n",
       "std     2786.148058    47.622874\n",
       "min    11786.000000     1.000000\n",
       "25%    14198.500000    14.000000\n",
       "50%    16611.000000    27.000000\n",
       "75%    19023.500000    46.000000\n",
       "max    21436.000000   229.000000"
      ]
     },
     "execution_count": 4,
     "metadata": {},
     "output_type": "execute_result"
    }
   ],
   "source": [
    "rest_data.describe()"
   ]
  },
  {
   "cell_type": "code",
   "execution_count": 5,
   "metadata": {
    "scrolled": false
   },
   "outputs": [
    {
     "name": "stdout",
     "output_type": "stream",
     "text": [
      "<class 'pandas.core.frame.DataFrame'>\n",
      "RangeIndex: 9651 entries, 0 to 9650\n",
      "Data columns (total 6 columns):\n",
      " #   Column       Non-Null Count  Dtype \n",
      "---  ------       --------------  ----- \n",
      " 0   id           9651 non-null   int64 \n",
      " 1   object_name  9651 non-null   object\n",
      " 2   address      9651 non-null   object\n",
      " 3   chain        9648 non-null   object\n",
      " 4   object_type  9651 non-null   object\n",
      " 5   number       9651 non-null   int64 \n",
      "dtypes: int64(2), object(4)\n",
      "memory usage: 452.5+ KB\n"
     ]
    }
   ],
   "source": [
    "rest_data.info()"
   ]
  },
  {
   "cell_type": "markdown",
   "metadata": {},
   "source": [
    "Vamos garantir que a coluna \"chain\" seja do tipo booleano"
   ]
  },
  {
   "cell_type": "code",
   "execution_count": 6,
   "metadata": {},
   "outputs": [],
   "source": [
    "rest_data['chain'] = rest_data['chain'].astype(bool)"
   ]
  },
  {
   "cell_type": "markdown",
   "metadata": {},
   "source": [
    "Agora que os dados estão no tipo certo, vamos verificar se existem valores duplicados e converter os nomes para letras minúsculas para conseguir comparar melhor."
   ]
  },
  {
   "cell_type": "code",
   "execution_count": 7,
   "metadata": {},
   "outputs": [
    {
     "data": {
      "text/plain": [
       "0"
      ]
     },
     "execution_count": 7,
     "metadata": {},
     "output_type": "execute_result"
    }
   ],
   "source": [
    "#Verificando se há linhas inteiras duplicadas\n",
    "rest_data.duplicated().sum()"
   ]
  },
  {
   "cell_type": "code",
   "execution_count": 8,
   "metadata": {},
   "outputs": [
    {
     "data": {
      "text/plain": [
       "0"
      ]
     },
     "execution_count": 8,
     "metadata": {},
     "output_type": "execute_result"
    }
   ],
   "source": [
    "# Verificando apenas se há IDs dos restaurantes duplicados\n",
    "rest_data['id'].duplicated().sum()"
   ]
  },
  {
   "cell_type": "code",
   "execution_count": 9,
   "metadata": {},
   "outputs": [
    {
     "data": {
      "text/html": [
       "<div>\n",
       "<style scoped>\n",
       "    .dataframe tbody tr th:only-of-type {\n",
       "        vertical-align: middle;\n",
       "    }\n",
       "\n",
       "    .dataframe tbody tr th {\n",
       "        vertical-align: top;\n",
       "    }\n",
       "\n",
       "    .dataframe thead th {\n",
       "        text-align: right;\n",
       "    }\n",
       "</style>\n",
       "<table border=\"1\" class=\"dataframe\">\n",
       "  <thead>\n",
       "    <tr style=\"text-align: right;\">\n",
       "      <th></th>\n",
       "      <th>id</th>\n",
       "      <th>object_name</th>\n",
       "      <th>address</th>\n",
       "      <th>chain</th>\n",
       "      <th>object_type</th>\n",
       "      <th>number</th>\n",
       "    </tr>\n",
       "  </thead>\n",
       "  <tbody>\n",
       "    <tr>\n",
       "      <th>128</th>\n",
       "      <td>11914</td>\n",
       "      <td>admirals club</td>\n",
       "      <td>500 world way</td>\n",
       "      <td>False</td>\n",
       "      <td>Restaurant</td>\n",
       "      <td>205</td>\n",
       "    </tr>\n",
       "    <tr>\n",
       "      <th>309</th>\n",
       "      <td>12095</td>\n",
       "      <td>the veggie grill</td>\n",
       "      <td>6374 w sunset blvd ste #a</td>\n",
       "      <td>True</td>\n",
       "      <td>Restaurant</td>\n",
       "      <td>69</td>\n",
       "    </tr>\n",
       "    <tr>\n",
       "      <th>349</th>\n",
       "      <td>12135</td>\n",
       "      <td>waba grill</td>\n",
       "      <td>5527 hollywood blvd</td>\n",
       "      <td>True</td>\n",
       "      <td>Restaurant</td>\n",
       "      <td>111</td>\n",
       "    </tr>\n",
       "    <tr>\n",
       "      <th>380</th>\n",
       "      <td>12166</td>\n",
       "      <td>donut star</td>\n",
       "      <td>11079 w pico blvd</td>\n",
       "      <td>True</td>\n",
       "      <td>Fast Food</td>\n",
       "      <td>27</td>\n",
       "    </tr>\n",
       "    <tr>\n",
       "      <th>388</th>\n",
       "      <td>12174</td>\n",
       "      <td>trimana</td>\n",
       "      <td>3550 wilshire blvd ste #116</td>\n",
       "      <td>True</td>\n",
       "      <td>Restaurant</td>\n",
       "      <td>33</td>\n",
       "    </tr>\n",
       "    <tr>\n",
       "      <th>...</th>\n",
       "      <td>...</td>\n",
       "      <td>...</td>\n",
       "      <td>...</td>\n",
       "      <td>...</td>\n",
       "      <td>...</td>\n",
       "      <td>...</td>\n",
       "    </tr>\n",
       "    <tr>\n",
       "      <th>9605</th>\n",
       "      <td>21391</td>\n",
       "      <td>yamakase</td>\n",
       "      <td>11901 santa monica blvd # 111</td>\n",
       "      <td>True</td>\n",
       "      <td>Restaurant</td>\n",
       "      <td>22</td>\n",
       "    </tr>\n",
       "    <tr>\n",
       "      <th>9608</th>\n",
       "      <td>21394</td>\n",
       "      <td>go get em tiger</td>\n",
       "      <td>230 n larchmont blvd</td>\n",
       "      <td>True</td>\n",
       "      <td>Restaurant</td>\n",
       "      <td>5</td>\n",
       "    </tr>\n",
       "    <tr>\n",
       "      <th>9627</th>\n",
       "      <td>21413</td>\n",
       "      <td>pizza buona</td>\n",
       "      <td>922 n alavarado st ste c</td>\n",
       "      <td>True</td>\n",
       "      <td>Pizza</td>\n",
       "      <td>5</td>\n",
       "    </tr>\n",
       "    <tr>\n",
       "      <th>9639</th>\n",
       "      <td>21425</td>\n",
       "      <td>mcdonald's</td>\n",
       "      <td>1800 s western ave</td>\n",
       "      <td>True</td>\n",
       "      <td>Fast Food</td>\n",
       "      <td>135</td>\n",
       "    </tr>\n",
       "    <tr>\n",
       "      <th>9648</th>\n",
       "      <td>21434</td>\n",
       "      <td>juicy wingz</td>\n",
       "      <td>6741 hollywood blvd</td>\n",
       "      <td>True</td>\n",
       "      <td>Fast Food</td>\n",
       "      <td>15</td>\n",
       "    </tr>\n",
       "  </tbody>\n",
       "</table>\n",
       "<p>979 rows × 6 columns</p>\n",
       "</div>"
      ],
      "text/plain": [
       "         id       object_name                        address  chain  \\\n",
       "128   11914     admirals club                  500 world way  False   \n",
       "309   12095  the veggie grill      6374 w sunset blvd ste #a   True   \n",
       "349   12135        waba grill            5527 hollywood blvd   True   \n",
       "380   12166        donut star              11079 w pico blvd   True   \n",
       "388   12174           trimana    3550 wilshire blvd ste #116   True   \n",
       "...     ...               ...                            ...    ...   \n",
       "9605  21391          yamakase  11901 santa monica blvd # 111   True   \n",
       "9608  21394   go get em tiger           230 n larchmont blvd   True   \n",
       "9627  21413       pizza buona       922 n alavarado st ste c   True   \n",
       "9639  21425        mcdonald's             1800 s western ave   True   \n",
       "9648  21434       juicy wingz            6741 hollywood blvd   True   \n",
       "\n",
       "     object_type  number  \n",
       "128   Restaurant     205  \n",
       "309   Restaurant      69  \n",
       "349   Restaurant     111  \n",
       "380    Fast Food      27  \n",
       "388   Restaurant      33  \n",
       "...          ...     ...  \n",
       "9605  Restaurant      22  \n",
       "9608  Restaurant       5  \n",
       "9627       Pizza       5  \n",
       "9639   Fast Food     135  \n",
       "9648   Fast Food      15  \n",
       "\n",
       "[979 rows x 6 columns]"
      ]
     },
     "execution_count": 9,
     "metadata": {},
     "output_type": "execute_result"
    }
   ],
   "source": [
    "# Verificando apenas se há nomes de resturantes duplicados\n",
    "rest_data['object_name'] = rest_data['object_name'].str.lower()\n",
    "rest_data['address'] = rest_data['address'].str.lower()\n",
    "rest_data[rest_data.duplicated(subset='object_name')]"
   ]
  },
  {
   "cell_type": "code",
   "execution_count": 10,
   "metadata": {},
   "outputs": [
    {
     "data": {
      "text/html": [
       "<div>\n",
       "<style scoped>\n",
       "    .dataframe tbody tr th:only-of-type {\n",
       "        vertical-align: middle;\n",
       "    }\n",
       "\n",
       "    .dataframe tbody tr th {\n",
       "        vertical-align: top;\n",
       "    }\n",
       "\n",
       "    .dataframe thead th {\n",
       "        text-align: right;\n",
       "    }\n",
       "</style>\n",
       "<table border=\"1\" class=\"dataframe\">\n",
       "  <thead>\n",
       "    <tr style=\"text-align: right;\">\n",
       "      <th></th>\n",
       "      <th>id</th>\n",
       "      <th>object_name</th>\n",
       "      <th>address</th>\n",
       "      <th>chain</th>\n",
       "      <th>object_type</th>\n",
       "      <th>number</th>\n",
       "    </tr>\n",
       "  </thead>\n",
       "  <tbody>\n",
       "    <tr>\n",
       "      <th>0</th>\n",
       "      <td>11786</td>\n",
       "      <td>habitat coffee shop</td>\n",
       "      <td>3708 n eagle rock blvd</td>\n",
       "      <td>False</td>\n",
       "      <td>Cafe</td>\n",
       "      <td>26</td>\n",
       "    </tr>\n",
       "    <tr>\n",
       "      <th>1</th>\n",
       "      <td>11787</td>\n",
       "      <td>reilly's</td>\n",
       "      <td>100 world way # 120</td>\n",
       "      <td>False</td>\n",
       "      <td>Restaurant</td>\n",
       "      <td>9</td>\n",
       "    </tr>\n",
       "    <tr>\n",
       "      <th>2</th>\n",
       "      <td>11788</td>\n",
       "      <td>street churros</td>\n",
       "      <td>6801 hollywood blvd # 253</td>\n",
       "      <td>False</td>\n",
       "      <td>Fast Food</td>\n",
       "      <td>20</td>\n",
       "    </tr>\n",
       "    <tr>\n",
       "      <th>3</th>\n",
       "      <td>11789</td>\n",
       "      <td>triniti echo park</td>\n",
       "      <td>1814 w sunset blvd</td>\n",
       "      <td>False</td>\n",
       "      <td>Restaurant</td>\n",
       "      <td>22</td>\n",
       "    </tr>\n",
       "    <tr>\n",
       "      <th>4</th>\n",
       "      <td>11790</td>\n",
       "      <td>pollen</td>\n",
       "      <td>2100 echo park ave</td>\n",
       "      <td>False</td>\n",
       "      <td>Restaurant</td>\n",
       "      <td>20</td>\n",
       "    </tr>\n",
       "    <tr>\n",
       "      <th>...</th>\n",
       "      <td>...</td>\n",
       "      <td>...</td>\n",
       "      <td>...</td>\n",
       "      <td>...</td>\n",
       "      <td>...</td>\n",
       "      <td>...</td>\n",
       "    </tr>\n",
       "    <tr>\n",
       "      <th>9645</th>\n",
       "      <td>21431</td>\n",
       "      <td>saint marc</td>\n",
       "      <td>10250 santa monica blvd # 1025</td>\n",
       "      <td>False</td>\n",
       "      <td>Restaurant</td>\n",
       "      <td>225</td>\n",
       "    </tr>\n",
       "    <tr>\n",
       "      <th>9646</th>\n",
       "      <td>21432</td>\n",
       "      <td>hall of justice</td>\n",
       "      <td>217 w temple ave</td>\n",
       "      <td>False</td>\n",
       "      <td>Restaurant</td>\n",
       "      <td>122</td>\n",
       "    </tr>\n",
       "    <tr>\n",
       "      <th>9647</th>\n",
       "      <td>21433</td>\n",
       "      <td>fin-melrose</td>\n",
       "      <td>5750 melrose ave</td>\n",
       "      <td>False</td>\n",
       "      <td>Restaurant</td>\n",
       "      <td>93</td>\n",
       "    </tr>\n",
       "    <tr>\n",
       "      <th>9649</th>\n",
       "      <td>21435</td>\n",
       "      <td>medidate coffee</td>\n",
       "      <td>548 s spring st ste 100</td>\n",
       "      <td>False</td>\n",
       "      <td>Cafe</td>\n",
       "      <td>6</td>\n",
       "    </tr>\n",
       "    <tr>\n",
       "      <th>9650</th>\n",
       "      <td>21436</td>\n",
       "      <td>cafe sprouts</td>\n",
       "      <td>1300 s san pedro st ste 111</td>\n",
       "      <td>True</td>\n",
       "      <td>Restaurant</td>\n",
       "      <td>19</td>\n",
       "    </tr>\n",
       "  </tbody>\n",
       "</table>\n",
       "<p>8148 rows × 6 columns</p>\n",
       "</div>"
      ],
      "text/plain": [
       "         id          object_name                         address  chain  \\\n",
       "0     11786  habitat coffee shop          3708 n eagle rock blvd  False   \n",
       "1     11787             reilly's             100 world way # 120  False   \n",
       "2     11788       street churros       6801 hollywood blvd # 253  False   \n",
       "3     11789    triniti echo park              1814 w sunset blvd  False   \n",
       "4     11790               pollen              2100 echo park ave  False   \n",
       "...     ...                  ...                             ...    ...   \n",
       "9645  21431           saint marc  10250 santa monica blvd # 1025  False   \n",
       "9646  21432      hall of justice                217 w temple ave  False   \n",
       "9647  21433          fin-melrose                5750 melrose ave  False   \n",
       "9649  21435      medidate coffee         548 s spring st ste 100  False   \n",
       "9650  21436         cafe sprouts     1300 s san pedro st ste 111   True   \n",
       "\n",
       "     object_type  number  \n",
       "0           Cafe      26  \n",
       "1     Restaurant       9  \n",
       "2      Fast Food      20  \n",
       "3     Restaurant      22  \n",
       "4     Restaurant      20  \n",
       "...          ...     ...  \n",
       "9645  Restaurant     225  \n",
       "9646  Restaurant     122  \n",
       "9647  Restaurant      93  \n",
       "9649        Cafe       6  \n",
       "9650  Restaurant      19  \n",
       "\n",
       "[8148 rows x 6 columns]"
      ]
     },
     "execution_count": 10,
     "metadata": {},
     "output_type": "execute_result"
    }
   ],
   "source": [
    "rest_data.drop_duplicates(subset='object_name', keep=False)"
   ]
  },
  {
   "cell_type": "code",
   "execution_count": 11,
   "metadata": {},
   "outputs": [
    {
     "data": {
      "text/plain": [
       "id             0\n",
       "object_name    0\n",
       "address        0\n",
       "chain          0\n",
       "object_type    0\n",
       "number         0\n",
       "dtype: int64"
      ]
     },
     "execution_count": 11,
     "metadata": {},
     "output_type": "execute_result"
    }
   ],
   "source": [
    "#Verificando valores nulos\n",
    "rest_data.isna().sum()"
   ]
  },
  {
   "cell_type": "markdown",
   "metadata": {},
   "source": [
    "Parece tudo certo para começarmos as análises."
   ]
  },
  {
   "cell_type": "markdown",
   "metadata": {},
   "source": [
    "## Análise de dados"
   ]
  },
  {
   "cell_type": "markdown",
   "metadata": {},
   "source": [
    "### Investigando as proporções"
   ]
  },
  {
   "cell_type": "markdown",
   "metadata": {},
   "source": [
    "Primeiramente, vamos descobrir quantos estabelecimentos estamos analisando."
   ]
  },
  {
   "cell_type": "code",
   "execution_count": 12,
   "metadata": {},
   "outputs": [
    {
     "name": "stdout",
     "output_type": "stream",
     "text": [
      "O número total de estabelecimentos é: 9651\n"
     ]
    }
   ],
   "source": [
    "# Contar o número total de estabelecimentos\n",
    "total_rest = len(rest_data)\n",
    "\n",
    "print(f\"O número total de estabelecimentos é: {total_rest}\")"
   ]
  },
  {
   "cell_type": "markdown",
   "metadata": {},
   "source": [
    "#### Investigando as proporções de vários tipos de estabelecimentos."
   ]
  },
  {
   "cell_type": "code",
   "execution_count": 13,
   "metadata": {},
   "outputs": [
    {
     "name": "stdout",
     "output_type": "stream",
     "text": [
      "Número de estabelecimentos por tipo:\n",
      "Restaurant    7255\n",
      "Fast Food     1066\n",
      "Cafe           435\n",
      "Pizza          320\n",
      "Bar            292\n",
      "Bakery         283\n",
      "Name: object_type, dtype: int64\n"
     ]
    }
   ],
   "source": [
    "# Contar o número de estabelecimentos para cada tipo\n",
    "count_per_type = rest_data['object_type'].value_counts()\n",
    "\n",
    "print(\"Número de estabelecimentos por tipo:\")\n",
    "print(count_per_type)"
   ]
  },
  {
   "cell_type": "code",
   "execution_count": 14,
   "metadata": {
    "scrolled": true
   },
   "outputs": [
    {
     "data": {
      "image/png": "[encoded data removed]",
      "text/plain": [
       "<Figure size 720x288 with 1 Axes>"
      ]
     },
     "metadata": {
      "needs_background": "light"
     },
     "output_type": "display_data"
    }
   ],
   "source": [
    "# Gráfico de contagem por tipo de estabelecimento\n",
    "plt.figure(figsize=(10, 4))\n",
    "sns.countplot(x='object_type', data=rest_data, palette='plasma')\n",
    "plt.title('Proporções de Tipos de Estabelecimentos')\n",
    "plt.xlabel('Tipo de Estabelecimento')\n",
    "plt.ylabel('Contagem')\n",
    "plt.xticks(rotation=45, ha='right')\n",
    "plt.show()"
   ]
  },
  {
   "cell_type": "markdown",
   "metadata": {},
   "source": [
    "De 9651 estabelecimentos, a grande maioria é do tipo “Restaurante” (7255 locais). Isso pode ser um forte indicativo da preferência dos moradores e frequentadores da região, porém uma cafeteria teria menor concorrência."
   ]
  },
  {
   "cell_type": "markdown",
   "metadata": {},
   "source": [
    "#### Investigando as proporções de estabelecimentos de rede ou não."
   ]
  },
  {
   "cell_type": "code",
   "execution_count": 15,
   "metadata": {},
   "outputs": [
    {
     "data": {
      "image/png": "[encoded data removed]",
      "text/plain": [
       "<Figure size 432x288 with 1 Axes>"
      ]
     },
     "metadata": {
      "needs_background": "light"
     },
     "output_type": "display_data"
    }
   ],
   "source": [
    "#Proporções de estabelecimentos de rede e não\n",
    "plt.figure(figsize=(6, 4))\n",
    "sns.countplot(x='chain', data=rest_data, palette='pastel')\n",
    "plt.title('Proporções de Estabelecimentos de Rede')\n",
    "plt.xlabel('Estabelecimento de Rede')\n",
    "plt.ylabel('Contagem')\n",
    "plt.xticks(ticks=[0, 1], labels=['Não em Rede', 'Em Rede'])\n",
    "plt.show()"
   ]
  },
  {
   "cell_type": "markdown",
   "metadata": {},
   "source": [
    "Do total de estabelecimentos, quase 6000 não estão ligados a uma rede. Isso nos leva a acreditar que não estar ligado a uma rede seja um bom negócio, mas precisamos olhar essas informações mais de perto."
   ]
  },
  {
   "cell_type": "markdown",
   "metadata": {},
   "source": [
    "### Qual tipo de establecimento é típico para redes?"
   ]
  },
  {
   "cell_type": "markdown",
   "metadata": {},
   "source": [
    "Para responder à essa pergunta, podemos realizar uma análise comparativa entre os tipos de estabelecimentos que são parte de redes (chain) e aqueles que não são."
   ]
  },
  {
   "cell_type": "code",
   "execution_count": 16,
   "metadata": {},
   "outputs": [
    {
     "data": {
      "text/html": [
       "<div>\n",
       "<style scoped>\n",
       "    .dataframe tbody tr th:only-of-type {\n",
       "        vertical-align: middle;\n",
       "    }\n",
       "\n",
       "    .dataframe tbody tr th {\n",
       "        vertical-align: top;\n",
       "    }\n",
       "\n",
       "    .dataframe thead th {\n",
       "        text-align: right;\n",
       "    }\n",
       "</style>\n",
       "<table border=\"1\" class=\"dataframe\">\n",
       "  <thead>\n",
       "    <tr style=\"text-align: right;\">\n",
       "      <th></th>\n",
       "      <th>index</th>\n",
       "      <th>object_type</th>\n",
       "    </tr>\n",
       "  </thead>\n",
       "  <tbody>\n",
       "    <tr>\n",
       "      <th>0</th>\n",
       "      <td>Restaurant</td>\n",
       "      <td>2294</td>\n",
       "    </tr>\n",
       "    <tr>\n",
       "      <th>1</th>\n",
       "      <td>Fast Food</td>\n",
       "      <td>605</td>\n",
       "    </tr>\n",
       "    <tr>\n",
       "      <th>2</th>\n",
       "      <td>Bakery</td>\n",
       "      <td>283</td>\n",
       "    </tr>\n",
       "    <tr>\n",
       "      <th>3</th>\n",
       "      <td>Cafe</td>\n",
       "      <td>266</td>\n",
       "    </tr>\n",
       "    <tr>\n",
       "      <th>4</th>\n",
       "      <td>Pizza</td>\n",
       "      <td>154</td>\n",
       "    </tr>\n",
       "    <tr>\n",
       "      <th>5</th>\n",
       "      <td>Bar</td>\n",
       "      <td>77</td>\n",
       "    </tr>\n",
       "  </tbody>\n",
       "</table>\n",
       "</div>"
      ],
      "text/plain": [
       "        index  object_type\n",
       "0  Restaurant         2294\n",
       "1   Fast Food          605\n",
       "2      Bakery          283\n",
       "3        Cafe          266\n",
       "4       Pizza          154\n",
       "5         Bar           77"
      ]
     },
     "execution_count": 16,
     "metadata": {},
     "output_type": "execute_result"
    }
   ],
   "source": [
    "#Analisando tipos de estabelecimentos para redes\n",
    "chain_type_counts = rest_data[rest_data['chain'] == True]['object_type'].value_counts().reset_index()\n",
    "chain_type_counts"
   ]
  },
  {
   "cell_type": "code",
   "execution_count": 17,
   "metadata": {},
   "outputs": [
    {
     "data": {
      "text/html": [
       "<div>\n",
       "<style scoped>\n",
       "    .dataframe tbody tr th:only-of-type {\n",
       "        vertical-align: middle;\n",
       "    }\n",
       "\n",
       "    .dataframe tbody tr th {\n",
       "        vertical-align: top;\n",
       "    }\n",
       "\n",
       "    .dataframe thead th {\n",
       "        text-align: right;\n",
       "    }\n",
       "</style>\n",
       "<table border=\"1\" class=\"dataframe\">\n",
       "  <thead>\n",
       "    <tr style=\"text-align: right;\">\n",
       "      <th></th>\n",
       "      <th>index</th>\n",
       "      <th>object_type</th>\n",
       "    </tr>\n",
       "  </thead>\n",
       "  <tbody>\n",
       "    <tr>\n",
       "      <th>0</th>\n",
       "      <td>Restaurant</td>\n",
       "      <td>4961</td>\n",
       "    </tr>\n",
       "    <tr>\n",
       "      <th>1</th>\n",
       "      <td>Fast Food</td>\n",
       "      <td>461</td>\n",
       "    </tr>\n",
       "    <tr>\n",
       "      <th>2</th>\n",
       "      <td>Bar</td>\n",
       "      <td>215</td>\n",
       "    </tr>\n",
       "    <tr>\n",
       "      <th>3</th>\n",
       "      <td>Cafe</td>\n",
       "      <td>169</td>\n",
       "    </tr>\n",
       "    <tr>\n",
       "      <th>4</th>\n",
       "      <td>Pizza</td>\n",
       "      <td>166</td>\n",
       "    </tr>\n",
       "  </tbody>\n",
       "</table>\n",
       "</div>"
      ],
      "text/plain": [
       "        index  object_type\n",
       "0  Restaurant         4961\n",
       "1   Fast Food          461\n",
       "2         Bar          215\n",
       "3        Cafe          169\n",
       "4       Pizza          166"
      ]
     },
     "execution_count": 17,
     "metadata": {},
     "output_type": "execute_result"
    }
   ],
   "source": [
    "#Analisando tipos de estabelecimentos para NÃO redes\n",
    "non_chain_type_counts = rest_data[rest_data['chain'] == False]['object_type'].value_counts().reset_index()\n",
    "non_chain_type_counts"
   ]
  },
  {
   "cell_type": "code",
   "execution_count": 18,
   "metadata": {},
   "outputs": [
    {
     "data": {
      "image/png": "[encoded data removed]",
      "text/plain": [
       "<Figure size 864x432 with 1 Axes>"
      ]
     },
     "metadata": {
      "needs_background": "light"
     },
     "output_type": "display_data"
    }
   ],
   "source": [
    "# Gráfico de contagem por tipo de estabelecimento\n",
    "plt.figure(figsize=(12, 6))\n",
    "sns.countplot(x='object_type', data=rest_data, hue='chain', palette='viridis')\n",
    "plt.title('Proporções de Tipos de Estabelecimentos em Rede e Não em Rede')\n",
    "plt.xlabel('Tipo de Estabelecimento')\n",
    "plt.ylabel('Contagem')\n",
    "plt.xticks(rotation=45, ha='right')\n",
    "plt.legend(title='Estabelecimento de Rede', labels=['Não em Rede', 'Em Rede'])\n",
    "plt.show()"
   ]
  },
  {
   "cell_type": "markdown",
   "metadata": {},
   "source": [
    "O gráfico inclui barras empilhadas para cada tipo de estabelecimento, diferenciando entre estabelecimentos em redes e fora de redes. Isso nos permite uma comparação visual mais clara das proporções de tipos de estabelecimentos em cada categoria. \n",
    "\n",
    "Para estabelecimentos do tipo \"Restaurante\" é possível ver que o número de estabelecimentos que não pertencem a uma rede é maior que o dobro, já para fast food, padaria e cafeteria existem mais estabelecimentos ligados a uma rede."
   ]
  },
  {
   "cell_type": "markdown",
   "metadata": {},
   "source": [
    "### O que caracteriza redes: muitos estabelecimentos com um pequeno número de assentos ou poucos estabelecimentos com uitos assentos?"
   ]
  },
  {
   "cell_type": "markdown",
   "metadata": {},
   "source": [
    "Para responder à pergunta, podemos analisar a distribuição do número de assentos para estabelecimentos em redes e fora de redes:"
   ]
  },
  {
   "cell_type": "markdown",
   "metadata": {},
   "source": [
    "Primeiro, vamos analisar o estabelecimentos por ruas."
   ]
  },
  {
   "cell_type": "code",
   "execution_count": 19,
   "metadata": {},
   "outputs": [],
   "source": [
    "# Colocando dados dos nomes das ruas em uma coluna separada\n",
    "rest_data['street'] = rest_data['address'].apply(lambda x: x.split(',')[0])"
   ]
  },
  {
   "cell_type": "code",
   "execution_count": 20,
   "metadata": {},
   "outputs": [
    {
     "data": {
      "text/html": [
       "<div>\n",
       "<style scoped>\n",
       "    .dataframe tbody tr th:only-of-type {\n",
       "        vertical-align: middle;\n",
       "    }\n",
       "\n",
       "    .dataframe tbody tr th {\n",
       "        vertical-align: top;\n",
       "    }\n",
       "\n",
       "    .dataframe thead th {\n",
       "        text-align: right;\n",
       "    }\n",
       "</style>\n",
       "<table border=\"1\" class=\"dataframe\">\n",
       "  <thead>\n",
       "    <tr style=\"text-align: right;\">\n",
       "      <th></th>\n",
       "      <th>id</th>\n",
       "      <th>object_name</th>\n",
       "      <th>address</th>\n",
       "      <th>chain</th>\n",
       "      <th>object_type</th>\n",
       "      <th>number</th>\n",
       "      <th>street</th>\n",
       "    </tr>\n",
       "  </thead>\n",
       "  <tbody>\n",
       "    <tr>\n",
       "      <th>0</th>\n",
       "      <td>11786</td>\n",
       "      <td>habitat coffee shop</td>\n",
       "      <td>3708 n eagle rock blvd</td>\n",
       "      <td>False</td>\n",
       "      <td>Cafe</td>\n",
       "      <td>26</td>\n",
       "      <td>3708 n eagle rock blvd</td>\n",
       "    </tr>\n",
       "    <tr>\n",
       "      <th>1</th>\n",
       "      <td>11787</td>\n",
       "      <td>reilly's</td>\n",
       "      <td>100 world way # 120</td>\n",
       "      <td>False</td>\n",
       "      <td>Restaurant</td>\n",
       "      <td>9</td>\n",
       "      <td>100 world way # 120</td>\n",
       "    </tr>\n",
       "    <tr>\n",
       "      <th>2</th>\n",
       "      <td>11788</td>\n",
       "      <td>street churros</td>\n",
       "      <td>6801 hollywood blvd # 253</td>\n",
       "      <td>False</td>\n",
       "      <td>Fast Food</td>\n",
       "      <td>20</td>\n",
       "      <td>6801 hollywood blvd # 253</td>\n",
       "    </tr>\n",
       "    <tr>\n",
       "      <th>3</th>\n",
       "      <td>11789</td>\n",
       "      <td>triniti echo park</td>\n",
       "      <td>1814 w sunset blvd</td>\n",
       "      <td>False</td>\n",
       "      <td>Restaurant</td>\n",
       "      <td>22</td>\n",
       "      <td>1814 w sunset blvd</td>\n",
       "    </tr>\n",
       "    <tr>\n",
       "      <th>4</th>\n",
       "      <td>11790</td>\n",
       "      <td>pollen</td>\n",
       "      <td>2100 echo park ave</td>\n",
       "      <td>False</td>\n",
       "      <td>Restaurant</td>\n",
       "      <td>20</td>\n",
       "      <td>2100 echo park ave</td>\n",
       "    </tr>\n",
       "  </tbody>\n",
       "</table>\n",
       "</div>"
      ],
      "text/plain": [
       "      id          object_name                    address  chain object_type  \\\n",
       "0  11786  habitat coffee shop     3708 n eagle rock blvd  False        Cafe   \n",
       "1  11787             reilly's        100 world way # 120  False  Restaurant   \n",
       "2  11788       street churros  6801 hollywood blvd # 253  False   Fast Food   \n",
       "3  11789    triniti echo park         1814 w sunset blvd  False  Restaurant   \n",
       "4  11790               pollen         2100 echo park ave  False  Restaurant   \n",
       "\n",
       "   number                     street  \n",
       "0      26     3708 n eagle rock blvd  \n",
       "1       9        100 world way # 120  \n",
       "2      20  6801 hollywood blvd # 253  \n",
       "3      22         1814 w sunset blvd  \n",
       "4      20         2100 echo park ave  "
      ]
     },
     "execution_count": 20,
     "metadata": {},
     "output_type": "execute_result"
    }
   ],
   "source": [
    "rest_data.head()"
   ]
  },
  {
   "cell_type": "markdown",
   "metadata": {},
   "source": [
    "Agora nossa tabela tem as seguintes colunas:\n",
    "<b>Descrição de dados</b>\n",
    "Tabela rest_data:\n",
    "- `id` — identificação do estabelecimento \n",
    "- `object_name` — nome do estabelecimento\n",
    "- `chain` — estabelecimento de rede (TRUE/FALSE)\n",
    "- `object_type` — tipo de estabelecimento\n",
    "- `address` — endereço\n",
    "- `number` — número de assentos\n",
    "- `street` — nome das ruas de cada estabelecimento"
   ]
  },
  {
   "cell_type": "markdown",
   "metadata": {},
   "source": [
    "Agora vamos comparar a distribuição de número de assentos entre estabelecimentos em redes e fora de redes"
   ]
  },
  {
   "cell_type": "code",
   "execution_count": 21,
   "metadata": {
    "scrolled": true
   },
   "outputs": [
    {
     "data": {
      "image/png": "[encoded data removed]",
      "text/plain": [
       "<Figure size 864x432 with 1 Axes>"
      ]
     },
     "metadata": {
      "needs_background": "light"
     },
     "output_type": "display_data"
    }
   ],
   "source": [
    "plt.figure(figsize=(12, 6))\n",
    "sns.histplot(rest_data, x='number', hue='chain', bins=15, kde=True, palette='inferno')\n",
    "plt.title('Distribuição de Número de Assentos para Estabelecimentos em Redes e Fora de Redes')\n",
    "plt.xlabel('Número de Assentos')\n",
    "plt.ylabel('Frequência')\n",
    "plt.show()"
   ]
  },
  {
   "cell_type": "markdown",
   "metadata": {},
   "source": [
    "No gráfico, conseguimos ver que os estabelecimentos com <b>menor</b> número de assentos, são mais frequentes em restaurantes de rede. E menos frequentes em restaurantes que não fazem parte de uma rede.\n",
    "\n",
    "Isso nos leva a acreditar que as redes tendem a ter muitos estabelecimentos com um pequeno número de assentos, com base nos dados disponíveis."
   ]
  },
  {
   "cell_type": "markdown",
   "metadata": {},
   "source": [
    "### Gráfico de dez ruas com o maior número de restaurantes."
   ]
  },
  {
   "cell_type": "markdown",
   "metadata": {},
   "source": [
    "Vamos ver quais ruas tem mais restaurantes:"
   ]
  },
  {
   "cell_type": "code",
   "execution_count": 22,
   "metadata": {},
   "outputs": [
    {
     "data": {
      "text/html": [
       "<div>\n",
       "<style scoped>\n",
       "    .dataframe tbody tr th:only-of-type {\n",
       "        vertical-align: middle;\n",
       "    }\n",
       "\n",
       "    .dataframe tbody tr th {\n",
       "        vertical-align: top;\n",
       "    }\n",
       "\n",
       "    .dataframe thead th {\n",
       "        text-align: right;\n",
       "    }\n",
       "</style>\n",
       "<table border=\"1\" class=\"dataframe\">\n",
       "  <thead>\n",
       "    <tr style=\"text-align: right;\">\n",
       "      <th></th>\n",
       "      <th>index</th>\n",
       "      <th>street</th>\n",
       "    </tr>\n",
       "  </thead>\n",
       "  <tbody>\n",
       "    <tr>\n",
       "      <th>0</th>\n",
       "      <td>3607 trousdale pkwy</td>\n",
       "      <td>11</td>\n",
       "    </tr>\n",
       "    <tr>\n",
       "      <th>1</th>\n",
       "      <td>135 n grand ave</td>\n",
       "      <td>10</td>\n",
       "    </tr>\n",
       "    <tr>\n",
       "      <th>2</th>\n",
       "      <td>5151 state university dr</td>\n",
       "      <td>9</td>\n",
       "    </tr>\n",
       "    <tr>\n",
       "      <th>3</th>\n",
       "      <td>600 world way</td>\n",
       "      <td>9</td>\n",
       "    </tr>\n",
       "    <tr>\n",
       "      <th>4</th>\n",
       "      <td>400 world way</td>\n",
       "      <td>9</td>\n",
       "    </tr>\n",
       "    <tr>\n",
       "      <th>5</th>\n",
       "      <td>545 s figueroa st</td>\n",
       "      <td>8</td>\n",
       "    </tr>\n",
       "    <tr>\n",
       "      <th>6</th>\n",
       "      <td>700 world way</td>\n",
       "      <td>8</td>\n",
       "    </tr>\n",
       "    <tr>\n",
       "      <th>7</th>\n",
       "      <td>2025 avenue of the stars</td>\n",
       "      <td>8</td>\n",
       "    </tr>\n",
       "    <tr>\n",
       "      <th>8</th>\n",
       "      <td>300 world way</td>\n",
       "      <td>8</td>\n",
       "    </tr>\n",
       "    <tr>\n",
       "      <th>9</th>\n",
       "      <td>100 world way</td>\n",
       "      <td>6</td>\n",
       "    </tr>\n",
       "  </tbody>\n",
       "</table>\n",
       "</div>"
      ],
      "text/plain": [
       "                      index  street\n",
       "0       3607 trousdale pkwy      11\n",
       "1           135 n grand ave      10\n",
       "2  5151 state university dr       9\n",
       "3             600 world way       9\n",
       "4             400 world way       9\n",
       "5         545 s figueroa st       8\n",
       "6             700 world way       8\n",
       "7  2025 avenue of the stars       8\n",
       "8             300 world way       8\n",
       "9             100 world way       6"
      ]
     },
     "execution_count": 22,
     "metadata": {},
     "output_type": "execute_result"
    }
   ],
   "source": [
    "top_10_streets = rest_data['street'].value_counts().reset_index()\n",
    "top_10_streets.head(10)"
   ]
  },
  {
   "cell_type": "code",
   "execution_count": 23,
   "metadata": {},
   "outputs": [
    {
     "data": {
      "image/png": "[encoded data removed]",
      "text/plain": [
       "<Figure size 864x432 with 1 Axes>"
      ]
     },
     "metadata": {
      "needs_background": "light"
     },
     "output_type": "display_data"
    }
   ],
   "source": [
    "# Gráfico de contagem das dez ruas com mais restaurantes\n",
    "plt.figure(figsize=(12, 6))\n",
    "top_10_streets = rest_data['street'].value_counts().head(10)\n",
    "sns.barplot(x=top_10_streets.index, y=top_10_streets.values, palette='colorblind')\n",
    "plt.title('Dez Ruas com Maior Número de Restaurantes')\n",
    "plt.xlabel('Rua')\n",
    "plt.ylabel('Contagem de Restaurantes')\n",
    "plt.xticks(rotation=45, ha='right')\n",
    "plt.show()"
   ]
  },
  {
   "cell_type": "markdown",
   "metadata": {},
   "source": [
    "O gráfico de barras mostra a contagem de restaurantes nas 10 ruas com mais estabelecimentos. Isso fornece uma visão geral de quais ruas são mais populares em termos de restaurantes. São mais de 10 restaurantes apenas na rua 3607 Trousdale Pkwy."
   ]
  },
  {
   "cell_type": "markdown",
   "metadata": {},
   "source": [
    "E quantas ruas tem apenas um restaurante:"
   ]
  },
  {
   "cell_type": "code",
   "execution_count": 24,
   "metadata": {},
   "outputs": [
    {
     "name": "stdout",
     "output_type": "stream",
     "text": [
      "Número de ruas com apenas um restaurante: 7598\n"
     ]
    }
   ],
   "source": [
    "# Número de ruas que têm apenas um restaurante\n",
    "single_restaurant_streets = rest_data['street'].value_counts()[rest_data['street'].value_counts() == 1].count()\n",
    "print(f\"Número de ruas com apenas um restaurante: {single_restaurant_streets}\")"
   ]
  },
  {
   "cell_type": "markdown",
   "metadata": {},
   "source": [
    "###  Distribuição do número de assentos para as ruas que tem muitos restaurantes"
   ]
  },
  {
   "cell_type": "markdown",
   "metadata": {},
   "source": [
    "Como são muitas ruas, e muitos resturantes, vamos considerar apenas as 10 ruas com mais restaurantes, como já foi determinado anteriormente."
   ]
  },
  {
   "cell_type": "code",
   "execution_count": 25,
   "metadata": {},
   "outputs": [],
   "source": [
    "top_10_restaurant_streets = top_10_streets.index"
   ]
  },
  {
   "cell_type": "code",
   "execution_count": 26,
   "metadata": {
    "scrolled": true
   },
   "outputs": [
    {
     "data": {
      "image/png": "[encoded data removed]",
      "text/plain": [
       "<Figure size 1152x1008 with 10 Axes>"
      ]
     },
     "metadata": {
      "needs_background": "light"
     },
     "output_type": "display_data"
    }
   ],
   "source": [
    "fig, axes = plt.subplots(nrows=5, ncols=2, figsize=(16, 14))\n",
    "\n",
    "for i, street in enumerate(top_10_restaurant_streets):\n",
    "    row, col = divmod(i, 2)\n",
    "    subset_data = rest_data[rest_data['street'] == street]\n",
    "    sns.histplot(subset_data['number'], bins=15, kde=True, color='skyblue', ax=axes[row, col])\n",
    "    axes[row, col].set_title(f'Distribuição de Assentos em {street}')\n",
    "    axes[row, col].set_xlabel('Número de Assentos')\n",
    "    axes[row, col].set_ylabel('Frequência')\n",
    "\n",
    "plt.tight_layout()\n",
    "plt.show()"
   ]
  },
  {
   "cell_type": "markdown",
   "metadata": {},
   "source": [
    "A análise visual do histograma nos permite identificar padrões na distribuição de assentos. Cada subplot representa a distribuição de assentos em um restaurante específico de uma das 10 ruas principais.\n",
    "O eixo x mostra o número de assentos, e o eixo y mostra a frequência (quantidade de restaurantes) para cada faixa de assentos."
   ]
  },
  {
   "cell_type": "markdown",
   "metadata": {},
   "source": [
    "<b>Variação na Capacidade de Assentos:</b>\n",
    "\n",
    "- As distribuições mostram uma variação significativa na capacidade de assentos entre os restaurantes em uma mesma rua.\n",
    "- Alguns restaurantes têm capacidade de assentos relativamente baixa, enquanto outros têm capacidade consideravelmente maior.\n",
    "\n",
    "<b>Picos e Concentrações:</b>\n",
    "\n",
    "- Alguns gráficos apresentam picos na distribuição, indicando que existe uma concentração de restaurantes com capacidades de assentos semelhantes.\n",
    "- Esses picos podem sugerir preferências locais ou práticas comuns naquela área em relação à capacidade dos estabelecimentos.\n",
    "\n",
    "<b>Assimetrias na Distribuição:</b>\n",
    "\n",
    "- Em algumas ruas, a distribuição de assentos pode ser assimétrica, indicando que há uma tendência para restaurantes com capacidade de assentos maior ou menor, dependendo da rua. Como na rua 2025 Avenue of the Stars, por exemplo.\n",
    "\n",
    "<b>Outliers:</b>\n",
    "\n",
    "- Outliers podem ser identificados como restaurantes que se destacam da distribuição principal em termos de capacidade de assentos.\n",
    "- Esses outliers podem representar estabelecimentos únicos na área, com capacidades muito grandes ou muito pequenas em comparação com outros, como na rua 3607 Trousdale Pkwy, onde há um restaurante com mais de 200 assentos.\n",
    "\n",
    "<b>Padrões de Preferência do Consumidor:</b>\n",
    "\n",
    "- Ao analisar as distribuições, é possível inferir padrões de preferência do consumidor em relação ao tamanho do estabelecimento.\n",
    "- Ruas com distribuições mais uniformes podem indicar uma preferência diversificada, enquanto aquelas com distribuições mais concentradas podem apontar para preferências específicas.\n",
    "- A exemplo da rua 300 World Way, parece que os consumidores preferem estabelecimentos com maior número de assentos."
   ]
  },
  {
   "cell_type": "markdown",
   "metadata": {},
   "source": [
    "<div class=\"alert alert-block alert-success\">\n",
    "<b> Comentário do revisor: </b> <a class=\"tocSkip\"></a>\n",
    "\n",
    "Correto. Porém, para identificar outliers, convém usar boxplot ou z-score\n",
    "</div>"
   ]
  },
  {
   "cell_type": "markdown",
   "metadata": {},
   "source": [
    "### Determine o número médio de assentos para cada tipo de restaurante. Em média, qual tipo de restaurante tem o maior número de assentos?"
   ]
  },
  {
   "cell_type": "code",
   "execution_count": 27,
   "metadata": {
    "scrolled": true
   },
   "outputs": [
    {
     "data": {
      "text/plain": [
       "object_type\n",
       "Restaurant    48.042316\n",
       "Bar           44.767123\n",
       "Fast Food     31.837711\n",
       "Pizza         28.459375\n",
       "Cafe          25.000000\n",
       "Bakery        21.773852\n",
       "Name: number, dtype: float64"
      ]
     },
     "execution_count": 27,
     "metadata": {},
     "output_type": "execute_result"
    }
   ],
   "source": [
    "# Número médio de assentos para cada tipo de restaurante\n",
    "avg_seats_by_type = rest_data.groupby('object_type')['number'].mean().sort_values(ascending=False)\n",
    "avg_seats_by_type"
   ]
  },
  {
   "cell_type": "code",
   "execution_count": 28,
   "metadata": {},
   "outputs": [],
   "source": [
    "# Tipo de restaurante com o maior número médio de assentos\n",
    "tipo_maior_assentos = avg_seats_by_type.idxmax()\n",
    "numero_medio_maior_assentos = avg_seats_by_type.max()"
   ]
  },
  {
   "cell_type": "code",
   "execution_count": 29,
   "metadata": {},
   "outputs": [
    {
     "name": "stdout",
     "output_type": "stream",
     "text": [
      "Em média, o tipo de restaurante com o maior número de assentos é 'Restaurant' com aproximadamente 48.04 assentos.\n"
     ]
    }
   ],
   "source": [
    "print(f\"Em média, o tipo de restaurante com o maior número de assentos é '{tipo_maior_assentos}' \"\n",
    "      f\"com aproximadamente {numero_medio_maior_assentos:.2f} assentos.\")"
   ]
  },
  {
   "cell_type": "code",
   "execution_count": 30,
   "metadata": {
    "scrolled": false
   },
   "outputs": [
    {
     "data": {
      "image/png": "[encoded data removed]",
      "text/plain": [
       "<Figure size 864x432 with 1 Axes>"
      ]
     },
     "metadata": {
      "needs_background": "light"
     },
     "output_type": "display_data"
    }
   ],
   "source": [
    "plt.figure(figsize=(12, 6))\n",
    "sns.barplot(x='object_type', y='number', data=rest_data, ci=None, palette='Set2')\n",
    "plt.title('Número Médio de Assentos por Tipo de Restaurante')\n",
    "plt.xlabel('Tipo de Estabelecimento')\n",
    "plt.ylabel('Número Médio de Assentos')\n",
    "plt.xticks(rotation=45, ha='right')\n",
    "plt.show()\n"
   ]
  },
  {
   "cell_type": "markdown",
   "metadata": {},
   "source": [
    "Em média, restaurantes tem maior número de assentos, com uma média de 48 assentos por restaurante, mas os bares ficam logo atrás com 44 assentos por bar."
   ]
  },
  {
   "cell_type": "markdown",
   "metadata": {},
   "source": [
    "## Conclusões"
   ]
  },
  {
   "cell_type": "markdown",
   "metadata": {},
   "source": [
    "<b>Conclusão Geral e Recomendações:</b>\n",
    "\n",
    "Ao analisar os dados sobre restaurantes em Los Angeles, podemos tirar algumas conclusões e fazer recomendações estratégicas:\n",
    "\n",
    "<b>Diversidade dos estabelecimentos:</b>\n",
    "\n",
    "Os dados revelam uma diversidade de tipos de estabelecimentos, incluindo cafés, restaurantes e fast foods.\n",
    "\n",
    "- Recomendação: Considerando a preferência local, estabelecimentos do tipo restaurante e bar são mais comuns, o que pode indicar que são muito frequentados, porém se considerarmos a concorrência ao escolher o tipo de estabelecimento, uma cafeteria seria ou fast food seriam mais adequados, já que existe um grande número desses estabelecimentos, mas não são tantos quanto os restaurantes ou bares.\n",
    "\n",
    "<b>Redes vs. Estabelecimentos Independentes:</b>\n",
    "\n",
    "A presença de cadeias (redes) é notável, mas muitos estabelecimentos são independentes.\n",
    "\n",
    "- Recomendação: Como foi analizado, o estabelecimentos em uma rede são mais comuns, o que indica que há demanda local, é necessário avaliar a viabilidade de desenvolver uma rede.\n",
    "\n",
    "<b>Capacidade de Assentos:</b>\n",
    "\n",
    "A análise das distribuições de assentos em ruas específicas mostra uma variação significativa na capacidade entre os restaurantes.\n",
    "- Recomendação: Ajustar a capacidade de assentos com base nas preferências locais e na concorrência. Considere diferentes capacidades para atender a diferentes demandas.\n",
    "\n",
    "<b>Ruas com Muitos Restaurantes:</b>\n",
    "\n",
    "Algumas ruas têm uma concentração considerável de restaurantes.\n",
    "- Recomendação: Avaliar a saturação de mercado nessas áreas antes de decidir abrir um novo estabelecimento. Pode haver oportunidades, mas a concorrência também será intensa.\n",
    "\n",
    "<b>Desenvolvimento de Rede:</b>\n",
    "\n",
    "A possibilidade de desenvolver uma rede de restaurantes pode depender da demanda, preferências locais e capacidade de oferecer uma proposta única.\n",
    "- Recomendação: Investir em pesquisas de mercado detalhadas para identificar oportunidades e nichos específicos que uma rede de restaurantes poderia explorar.\n",
    "\n",
    "<b>Adaptação Contínua:</b>\n",
    "\n",
    "A dinâmica do mercado pode mudar ao longo do tempo, portanto, é essencial monitorar continuamente as tendências, a concorrência e as preferências do consumidor.\n",
    "- Recomendação: Manter a flexibilidade e estar disposto a adaptar o tipo de restaurante e a capacidade de assentos conforme necessário."
   ]
  },
  {
   "cell_type": "markdown",
   "metadata": {},
   "source": [
    "Em resumo, para alcançar o sucesso no mercado de restaurantes em Los Angeles, é crucial compreender profundamente as nuances do mercado local. A capacidade de oferecer uma proposta única e adaptar-se às mudanças nas preferências dos consumidores e no cenário competitivo são fatores determinantes.\n",
    "\n",
    "Considerando a possibilidade de desenvolver uma rede de restaurantes, isso pode ser uma estratégia promissora, desde que baseada em análises de mercado sólidas. É vital identificar lacunas no mercado, entender as necessidades específicas dos consumidores e oferecer uma proposta de valor diferenciada. A flexibilidade para ajustar a estratégia com base nas dinâmicas do mercado é essencial para o sucesso a longo prazo.\n",
    "\n",
    "Em última análise, o êxito no setor de restaurantes exigirá uma abordagem estratégica e adaptativa, alinhada com as características e demandas únicas do mercado local em Los Angeles.\n",
    "\n",
    "<b>Recomendações:</b>\n",
    "\n",
    "Se a intenção for fugir da concorrência, abrir uma cafeteria é a melhor opção, nesse caso, deve-se considerar adotar o modelo de franquia, ou seja, muitos estabelecimentos, com um pequeno número de assentos, em média 25 assentos por estabelecimento, que é o modelo mais comum para cafeterias. Em uma rua que não tenha muitas cafeterias.\n",
    "\n",
    "Porém, se for levar em consideração a preferência do público, os restaurantes são mais procurados. Caso a preferência seja por restaurante, podemos escolher dentre as ruas que possuem muitos estabelecimentos, mas não tantos a ponto de saturar o mercado, a 450 Western Ave parece uma boa opção, pois possui apenas 6 estabelecimentos com poucos assentos. Um restaurante que não pertença a uma franquia poderia ter uma média de 48 assentos."
   ]
  },
  {
   "cell_type": "markdown",
   "metadata": {},
   "source": [
    "\n",
    "<div class=\"alert alert-block alert-success\">\n",
    "<b>Comentário Geral do Revisor</b> <a class=\"tocSkip\"></a>\n",
    "\n",
    "Obrigado por enviar seu projeto. \n",
    "    \n",
    "Parabéns, você fez um bom trabalho excelente.\n",
    "\n",
    "Como pontos fortes do projeto, destaco:\n",
    "- Código simples e eficiente\n",
    "- Bons gráficos\n",
    "- Uso de recursos avançados (ex: função lambda)\n",
    "- Apresentação impecável (bem escrito, uso de tópicos, análise sobre os gráficos)\n",
    "\n",
    "Você apresentou maturidade no projeto. Parabéns. \n",
    "Desejo sucesso na jornada.\n",
    "Conte conosco.\n",
    "</div>"
   ]
  },
  {
   "cell_type": "code",
   "execution_count": null,
   "metadata": {},
   "outputs": [],
   "source": []
  }
 ],
 "metadata": {
  "kernelspec": {
   "display_name": "Python 3 (ipykernel)",
   "language": "python",
   "name": "python3"
  },
  "language_info": {
   "codemirror_mode": {
    "name": "ipython",
    "version": 3
   },
   "file_extension": ".py",
   "mimetype": "text/x-python",
   "name": "python",
   "nbconvert_exporter": "python",
   "pygments_lexer": "ipython3",
   "version": "3.9.5"
  },
  "toc": {
   "base_numbering": 1,
   "nav_menu": {},
   "number_sections": true,
   "sideBar": true,
   "skip_h1_title": true,
   "title_cell": "Table of Contents",
   "title_sidebar": "Contents",
   "toc_cell": false,
   "toc_position": {},
   "toc_section_display": true,
   "toc_window_display": false
  }
 },
 "nbformat": 4,
 "nbformat_minor": 2
}
